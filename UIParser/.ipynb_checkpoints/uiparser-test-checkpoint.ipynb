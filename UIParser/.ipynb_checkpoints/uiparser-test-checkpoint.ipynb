{
 "cells": [
  {
   "cell_type": "code",
   "execution_count": 1,
   "metadata": {
    "collapsed": true
   },
   "outputs": [],
   "source": [
    "from PIL import Image\n",
    "from tesserocr import PyTessBaseAPI, RIL, PSM, OEM\n",
    "tesseract = PyTessBaseAPI()"
   ]
  },
  {
   "cell_type": "code",
   "execution_count": 2,
   "metadata": {
    "collapsed": false
   },
   "outputs": [
    {
     "name": "stdout",
     "output_type": "stream",
     "text": [
      "Found 7 textline image components.\n",
      "Box[0]: x=1258, y=157, w=297, h=177, confidence: [], text: \n",
      "Box[1]: x=915, y=345, w=539, h=33, confidence: [84, 86, 79], text: Cappuccino Hot milk\n",
      "\n",
      "\n",
      "Box[2]: x=857, y=527, w=289, h=98, confidence: [], text: \n",
      "Box[3]: x=561, y=634, w=902, h=29, confidence: [78, 88, 82, 92], text: Latte Macchiato Froth Milk\n",
      "\n",
      "\n",
      "Box[4]: x=515, y=923, w=945, h=30, confidence: [85, 89, 82, 86], text: Choco-Milk Mocha Hot water\n",
      "\n",
      "\n",
      "Box[5]: x=51, y=237, w=294, h=102, confidence: [95], text:  \n",
      "\n",
      "\n",
      "Box[6]: x=129, y=347, w=555, h=34, confidence: [83, 78, 81], text: Espresso White Coffee\n",
      "\n",
      "\n"
     ]
    }
   ],
   "source": [
    "image = Image.open('./coffee_touchscreen_test_50.jpg')\n",
    "tesseract.SetImage(image)\n",
    "\n",
    "boxes = tesseract.GetComponentImages(RIL.TEXTLINE, True)\n",
    "print('Found {} textline image components.'.format(len(boxes)))\n",
    "for i, (im, box, _, _) in enumerate(boxes):\n",
    "    # im is a PIL image object\n",
    "    # box is a dict with x, y, w and h keys\n",
    "    tesseract.SetRectangle(box['x'], box['y'], box['w'], box['h'])\n",
    "    ocrResult = tesseract.GetUTF8Text()\n",
    "    conf = tesseract.AllWordConfidences()\n",
    "    if (conf == 0.0):\n",
    "        continue\n",
    "    print(\"Box[{0}]: x={x}, y={y}, w={w}, h={h}, \"\n",
    "           \"confidence: {1}, text: {2}\".format(i, conf, ocrResult, **box))"
   ]
  },
  {
   "cell_type": "code",
   "execution_count": 3,
   "metadata": {
    "collapsed": false
   },
   "outputs": [
    {
     "ename": "AttributeError",
     "evalue": "type object 'tesserocr.OEM' has no attribute 'LSTM_ONLY'",
     "output_type": "error",
     "traceback": [
      "\u001b[0;31m---------------------------------------------------------------------------\u001b[0m",
      "\u001b[0;31mAttributeError\u001b[0m                            Traceback (most recent call last)",
      "\u001b[0;32m<ipython-input-3-88f43ac3ccb1>\u001b[0m in \u001b[0;36m<module>\u001b[0;34m()\u001b[0m\n\u001b[0;32m----> 1\u001b[0;31m \u001b[0;32mwith\u001b[0m \u001b[0mPyTessBaseAPI\u001b[0m\u001b[0;34m(\u001b[0m\u001b[0mpsm\u001b[0m\u001b[0;34m=\u001b[0m\u001b[0mPSM\u001b[0m\u001b[0;34m.\u001b[0m\u001b[0mOSD_ONLY\u001b[0m\u001b[0;34m,\u001b[0m \u001b[0moem\u001b[0m\u001b[0;34m=\u001b[0m\u001b[0mOEM\u001b[0m\u001b[0;34m.\u001b[0m\u001b[0mLSTM_ONLY\u001b[0m\u001b[0;34m)\u001b[0m \u001b[0;32mas\u001b[0m \u001b[0mapi\u001b[0m\u001b[0;34m:\u001b[0m\u001b[0;34m\u001b[0m\u001b[0m\n\u001b[0m\u001b[1;32m      2\u001b[0m     \u001b[0mapi\u001b[0m\u001b[0;34m.\u001b[0m\u001b[0mSetImageFile\u001b[0m\u001b[0;34m(\u001b[0m\u001b[0;34m'./coffee_touchscreen_test_50.jpg'\u001b[0m\u001b[0;34m)\u001b[0m\u001b[0;34m\u001b[0m\u001b[0m\n\u001b[1;32m      3\u001b[0m \u001b[0;34m\u001b[0m\u001b[0m\n\u001b[1;32m      4\u001b[0m     \u001b[0mos\u001b[0m \u001b[0;34m=\u001b[0m \u001b[0mapi\u001b[0m\u001b[0;34m.\u001b[0m\u001b[0mDetectOrientationScript\u001b[0m\u001b[0;34m(\u001b[0m\u001b[0;34m)\u001b[0m\u001b[0;34m\u001b[0m\u001b[0m\n\u001b[1;32m      5\u001b[0m     print (\"Orientation: {orient_deg}\\nOrientation confidence: {orient_conf}\\n\"\n",
      "\u001b[0;31mAttributeError\u001b[0m: type object 'tesserocr.OEM' has no attribute 'LSTM_ONLY'"
     ]
    }
   ],
   "source": [
    "with PyTessBaseAPI(psm=PSM.OSD_ONLY, oem=OEM.LSTM_ONLY) as api:\n",
    "    api.SetImageFile('./coffee_touchscreen_test_50.jpg')\n",
    "\n",
    "    os = api.DetectOrientationScript()\n",
    "    print (\"Orientation: {orient_deg}\\nOrientation confidence: {orient_conf}\\n\"\n",
    "           \"Script: {script_name}\\nScript confidence: {script_conf}\".format(**os))"
   ]
  },
  {
   "cell_type": "code",
   "execution_count": null,
   "metadata": {
    "collapsed": true
   },
   "outputs": [],
   "source": [
    "#tesseract.Recognize()\n",
    "#it = tesseract.AnalyseLayout()\n",
    "#print(it)\n",
    "#orientation, direction, order, deskew_angle = it.Orientation()\n",
    "#print(\"Orientation: {:d}\".format(orientation))\n",
    "#print(\"WritingDirection: {:d}\".format(direction))\n",
    "#print(\"TextlineOrder: {:d}\".format(order))\n",
    "#print(\"Deskew angle: {:.4f}\".format(deskew_angle))"
   ]
  },
  {
   "cell_type": "code",
   "execution_count": null,
   "metadata": {
    "collapsed": true
   },
   "outputs": [],
   "source": []
  }
 ],
 "metadata": {
  "kernelspec": {
   "display_name": "Python 3",
   "language": "python",
   "name": "python3"
  },
  "language_info": {
   "codemirror_mode": {
    "name": "ipython",
    "version": 3
   },
   "file_extension": ".py",
   "mimetype": "text/x-python",
   "name": "python",
   "nbconvert_exporter": "python",
   "pygments_lexer": "ipython3",
   "version": "3.5.2"
  }
 },
 "nbformat": 4,
 "nbformat_minor": 1
}
